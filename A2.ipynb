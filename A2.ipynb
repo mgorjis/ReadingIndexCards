{
 "cells": [
  {
   "cell_type": "code",
   "execution_count": 1,
   "metadata": {
    "collapsed": false
   },
   "outputs": [
    {
     "data": {
      "text/plain": [
       "'3.5.1 (v3.5.1:37a07cee5969, Dec  5 2015, 21:12:44) \\n[GCC 4.2.1 (Apple Inc. build 5666) (dot 3)]'"
      ]
     },
     "execution_count": 1,
     "metadata": {},
     "output_type": "execute_result"
    }
   ],
   "source": [
    "#This program is written in python 3.5.1\n",
    "#What is yours?!\n",
    "\n",
    "import sys\n",
    "sys.version"
   ]
  },
  {
   "cell_type": "code",
   "execution_count": 2,
   "metadata": {
    "collapsed": false
   },
   "outputs": [
    {
     "data": {
      "text/plain": [
       "['Sheet1']"
      ]
     },
     "execution_count": 2,
     "metadata": {},
     "output_type": "execute_result"
    }
   ],
   "source": [
    "#path=\"/Users/mgorjise/Desktop/new/CMU/New.xlsx\"\n",
    "path=\"/Users/mgorjise/Documents/new/reading/CMU/New.xlsx\"\n",
    "import pandas as pd\n",
    "xl = pd.ExcelFile(path,sep='\\s*,\\s*',encoding='ascii')\n",
    "xl.sheet_names"
   ]
  },
  {
   "cell_type": "code",
   "execution_count": 4,
   "metadata": {
    "collapsed": false
   },
   "outputs": [
    {
     "data": {
      "text/html": [
       "<div>\n",
       "<table border=\"1\" class=\"dataframe\">\n",
       "  <thead>\n",
       "    <tr style=\"text-align: right;\">\n",
       "      <th></th>\n",
       "      <th>Full element name</th>\n",
       "      <th>Executable model variable name</th>\n",
       "      <th>Element values</th>\n",
       "      <th>Unnamed: 3</th>\n",
       "      <th>Unnamed: 4</th>\n",
       "      <th>Unnamed: 5</th>\n",
       "      <th>Unnamed: 6</th>\n",
       "      <th>Unnamed: 7</th>\n",
       "      <th>Unnamed: 8</th>\n",
       "      <th>Unnamed: 9</th>\n",
       "      <th>...</th>\n",
       "      <th>Unnamed: 30</th>\n",
       "      <th>Unnamed: 31</th>\n",
       "      <th>Unnamed: 32</th>\n",
       "      <th>Unnamed: 33</th>\n",
       "      <th>Unnamed: 34</th>\n",
       "      <th>Unnamed: 35</th>\n",
       "      <th>Unnamed: 36</th>\n",
       "      <th>Unnamed: 37</th>\n",
       "      <th>Unnamed: 38</th>\n",
       "      <th>Unnamed: 39</th>\n",
       "    </tr>\n",
       "  </thead>\n",
       "  <tbody>\n",
       "    <tr>\n",
       "      <th>0</th>\n",
       "      <td>NaN</td>\n",
       "      <td>NaN</td>\n",
       "      <td>Sc. 1 Begin</td>\n",
       "      <td>Sc. 1 End</td>\n",
       "      <td>Sc. 1 Sim End</td>\n",
       "      <td>Sc. 2 Begin</td>\n",
       "      <td>Sc. 2 End</td>\n",
       "      <td>Sc. 2 Sim End</td>\n",
       "      <td>Sc. 3 Begin</td>\n",
       "      <td>Sc. 3 End</td>\n",
       "      <td>...</td>\n",
       "      <td>NaN</td>\n",
       "      <td>References for Influence set</td>\n",
       "      <td>NaN</td>\n",
       "      <td>NaN</td>\n",
       "      <td>NaN</td>\n",
       "      <td>NaN</td>\n",
       "      <td>NaN</td>\n",
       "      <td>NaN</td>\n",
       "      <td>NaN</td>\n",
       "      <td>NaN</td>\n",
       "    </tr>\n",
       "    <tr>\n",
       "      <th>1</th>\n",
       "      <td>NaN</td>\n",
       "      <td>NaN</td>\n",
       "      <td>NaN</td>\n",
       "      <td>NaN</td>\n",
       "      <td>NaN</td>\n",
       "      <td>NaN</td>\n",
       "      <td>NaN</td>\n",
       "      <td>NaN</td>\n",
       "      <td>NaN</td>\n",
       "      <td>NaN</td>\n",
       "      <td>...</td>\n",
       "      <td>NaN</td>\n",
       "      <td>NaN</td>\n",
       "      <td>NaN</td>\n",
       "      <td>NaN</td>\n",
       "      <td>NaN</td>\n",
       "      <td>NaN</td>\n",
       "      <td>NaN</td>\n",
       "      <td>NaN</td>\n",
       "      <td>NaN</td>\n",
       "      <td>NaN</td>\n",
       "    </tr>\n",
       "    <tr>\n",
       "      <th>2</th>\n",
       "      <td>Disintegrin and metalloproteinase domain-conta...</td>\n",
       "      <td>ADAM17</td>\n",
       "      <td>0</td>\n",
       "      <td>1</td>\n",
       "      <td>0</td>\n",
       "      <td>2</td>\n",
       "      <td>1</td>\n",
       "      <td>2</td>\n",
       "      <td>1</td>\n",
       "      <td>0</td>\n",
       "      <td>...</td>\n",
       "      <td>NaN</td>\n",
       "      <td>PMID24096196</td>\n",
       "      <td>NaN</td>\n",
       "      <td>NaN</td>\n",
       "      <td>NaN</td>\n",
       "      <td>NaN</td>\n",
       "      <td>NaN</td>\n",
       "      <td>NaN</td>\n",
       "      <td>NaN</td>\n",
       "      <td>NaN</td>\n",
       "    </tr>\n",
       "    <tr>\n",
       "      <th>3</th>\n",
       "      <td>RAC-alpha serine/threonine-protein kinase (Akt)</td>\n",
       "      <td>AKT1</td>\n",
       "      <td>0</td>\n",
       "      <td>1</td>\n",
       "      <td>2</td>\n",
       "      <td>1</td>\n",
       "      <td>2</td>\n",
       "      <td>0</td>\n",
       "      <td>2</td>\n",
       "      <td>2</td>\n",
       "      <td>...</td>\n",
       "      <td>NaN</td>\n",
       "      <td>PMC3128635</td>\n",
       "      <td>PMC4295631 index card</td>\n",
       "      <td>NaN</td>\n",
       "      <td>NaN</td>\n",
       "      <td>NaN</td>\n",
       "      <td>NaN</td>\n",
       "      <td>NaN</td>\n",
       "      <td>NaN</td>\n",
       "      <td>NaN</td>\n",
       "    </tr>\n",
       "    <tr>\n",
       "      <th>4</th>\n",
       "      <td>5' AMP-activated protein kinase (AMPK)</td>\n",
       "      <td>AMPK</td>\n",
       "      <td>0</td>\n",
       "      <td>1</td>\n",
       "      <td>0</td>\n",
       "      <td>1</td>\n",
       "      <td>2</td>\n",
       "      <td>1</td>\n",
       "      <td>2</td>\n",
       "      <td>2</td>\n",
       "      <td>...</td>\n",
       "      <td>NaN</td>\n",
       "      <td>PMC3454471</td>\n",
       "      <td>NaN</td>\n",
       "      <td>NaN</td>\n",
       "      <td>NaN</td>\n",
       "      <td>NaN</td>\n",
       "      <td>NaN</td>\n",
       "      <td>NaN</td>\n",
       "      <td>NaN</td>\n",
       "      <td>NaN</td>\n",
       "    </tr>\n",
       "  </tbody>\n",
       "</table>\n",
       "<p>5 rows × 40 columns</p>\n",
       "</div>"
      ],
      "text/plain": [
       "                                   Full element name  \\\n",
       "0                                                NaN   \n",
       "1                                                NaN   \n",
       "2  Disintegrin and metalloproteinase domain-conta...   \n",
       "3    RAC-alpha serine/threonine-protein kinase (Akt)   \n",
       "4             5' AMP-activated protein kinase (AMPK)   \n",
       "\n",
       "  Executable model variable name Element values Unnamed: 3     Unnamed: 4  \\\n",
       "0                            NaN    Sc. 1 Begin  Sc. 1 End  Sc. 1 Sim End   \n",
       "1                            NaN            NaN        NaN            NaN   \n",
       "2                         ADAM17              0          1              0   \n",
       "3                           AKT1              0          1              2   \n",
       "4                           AMPK              0          1              0   \n",
       "\n",
       "    Unnamed: 5 Unnamed: 6     Unnamed: 7   Unnamed: 8 Unnamed: 9     ...      \\\n",
       "0  Sc. 2 Begin  Sc. 2 End  Sc. 2 Sim End  Sc. 3 Begin  Sc. 3 End     ...       \n",
       "1          NaN        NaN            NaN          NaN        NaN     ...       \n",
       "2            2          1              2            1          0     ...       \n",
       "3            1          2              0            2          2     ...       \n",
       "4            1          2              1            2          2     ...       \n",
       "\n",
       "  Unnamed: 30                   Unnamed: 31            Unnamed: 32  \\\n",
       "0         NaN  References for Influence set                    NaN   \n",
       "1         NaN                           NaN                    NaN   \n",
       "2         NaN                  PMID24096196                    NaN   \n",
       "3         NaN                    PMC3128635  PMC4295631 index card   \n",
       "4         NaN                    PMC3454471                    NaN   \n",
       "\n",
       "  Unnamed: 33 Unnamed: 34 Unnamed: 35 Unnamed: 36 Unnamed: 37 Unnamed: 38  \\\n",
       "0         NaN         NaN         NaN         NaN         NaN         NaN   \n",
       "1         NaN         NaN         NaN         NaN         NaN         NaN   \n",
       "2         NaN         NaN         NaN         NaN         NaN         NaN   \n",
       "3         NaN         NaN         NaN         NaN         NaN         NaN   \n",
       "4         NaN         NaN         NaN         NaN         NaN         NaN   \n",
       "\n",
       "  Unnamed: 39  \n",
       "0         NaN  \n",
       "1         NaN  \n",
       "2         NaN  \n",
       "3         NaN  \n",
       "4         NaN  \n",
       "\n",
       "[5 rows x 40 columns]"
      ]
     },
     "execution_count": 4,
     "metadata": {},
     "output_type": "execute_result"
    }
   ],
   "source": [
    "df = xl.parse('Sheet1')\n",
    "df.head()"
   ]
  },
  {
   "cell_type": "code",
   "execution_count": 5,
   "metadata": {
    "collapsed": false
   },
   "outputs": [
    {
     "data": {
      "text/plain": [
       "Index(['Full element name', 'Executable model variable name', 'Element values',\n",
       "       'Unnamed: 3', 'Unnamed: 4', 'Unnamed: 5', 'Unnamed: 6', 'Unnamed: 7',\n",
       "       'Unnamed: 8', 'Unnamed: 9', 'Unnamed: 10', 'Importance of element',\n",
       "       'Graph model variable name', 'Unique ID', 'Unique ID (text)',\n",
       "       'Element kind', 'Element type', 'Element sub-type',\n",
       "       'Spontaneously Restores (R) Degrades (D)',\n",
       "       'Type of value: Activity (A) Amount (C) Process (P)', 'Location',\n",
       "       'Model   Input (I) Output (O)', 'initial value', 'Unnamed: 23',\n",
       "       'No. of reg.', 'Interaction', 'Unnamed: 26', 'Influence set',\n",
       "       'Unnamed: 28', 'Unnamed: 29', 'Unnamed: 30', 'Unnamed: 31',\n",
       "       'Unnamed: 32', 'Unnamed: 33', 'Unnamed: 34', 'Unnamed: 35',\n",
       "       'Unnamed: 36', 'Unnamed: 37', 'Unnamed: 38', 'Unnamed: 39'],\n",
       "      dtype='object')"
      ]
     },
     "execution_count": 5,
     "metadata": {},
     "output_type": "execute_result"
    }
   ],
   "source": [
    "df.columns"
   ]
  },
  {
   "cell_type": "code",
   "execution_count": 6,
   "metadata": {
    "collapsed": false
   },
   "outputs": [],
   "source": [
    "# Create a list of participant in this dictionary form: (graph name: unique id )\n",
    "\n",
    "\n",
    "ListOfParticipant=[]\n",
    "ListOfLocation=[]\n",
    "ListOfUniqueid=[]\n",
    "ElementType=[]\n",
    "ListOfInfluence_positive=[]\n",
    "ListOfInfluence_negative=[]\n",
    "ParticipantsDict={}\n",
    "ListOfEvents=[]\n",
    "\n",
    "def isNaN(num):\n",
    "    return num != num\n",
    "\n",
    "\n",
    "import math\n",
    "import re\n",
    "nan=float(\"nan\")\n",
    "\n",
    "for i in range(2,171):\n",
    "    \n",
    "    name=df['Graph model variable name'][i].replace(' ','')\n",
    "    ListOfParticipant.append(name)\n",
    "    \n",
    "    #ListOfLocation.append(df['Location'][i])\n",
    "    \n",
    "    \n",
    "    ID=df['Unique ID'][i]\n",
    "   \n",
    "    if (':' in ID) == False:\n",
    "        ID='uniprot:'+ID\n",
    "    ParticipantsDict.update({name:ID})\n",
    "    ListOfUniqueid.append(ID)\n",
    "    \n",
    "    #ElementType.append(df['Element type'][i])\n",
    "    \n",
    "    IP=df['Influence set'][i]  #Influence_positive\n",
    "    if type(IP)==str:\n",
    "        IP=IP.replace(';',' ').replace(',',' ').replace('or',' ').replace('and',' ').replace('{',' ').replace('}',' ').replace('[',' ').replace(']',' ').replace('(',' ').replace(')',' ').split()\n",
    "        ListOfInfluence_positive.append(IP)\n",
    "        \n",
    "    IN=df['Unnamed: 28'][i]    #Influence_negative\n",
    "    if type(IN)==str:\n",
    "        IN=IN.replace(';',' ').replace(',',' ').replace('or',' ').replace('and',' ').replace('{',' ').replace('}',' ').replace('[',' ').replace(']',' ').replace('(',' ').replace(')',' ').split()\n",
    "        ListOfInfluence_negative.append(IN)\n",
    "        \n",
    "    ET=df['Unnamed: 26'][i]  #Event Type\n",
    "    ET=str(ET).replace(',',' ').split()\n",
    "    \n",
    "    if not isNaN(IP):\n",
    "        for j in range(0,len(IP)):      \n",
    "            ListOfEvents.append((IP[j],name,'Positive',ET))\n",
    "            \n",
    "    if not isNaN(IN): \n",
    "        for j in range(0,len(IN)):\n",
    "            ListOfEvents.append((IN[j],name,'Negative',ET))\n",
    "    \n",
    " \n",
    "   #k=0\n",
    "    #if not isNaN(IP):\n",
    "        #for j in range(0,len(IP)):\n",
    "            #if ET[0]=='nan': \n",
    "                #ET1='nan' \n",
    "            #else:\n",
    "                #ET1=ET[k]\n",
    "                \n",
    "            #ListOfEvents.append((IP[j],name,'Positive',ET1))\n",
    "            #k=k+1\n",
    "    #if not isNaN(IN):\n",
    "        #for j in range(0,len(IN)):\n",
    "            #if ET[0]=='nan': \n",
    "                #ET1='nan' \n",
    "            #else:\n",
    "                #ET1=ET[k]\n",
    "                \n",
    "            #ListOfEvents.append((IN[j],name,'Negative',ET1))\n",
    "            #k=k+1"
   ]
  },
  {
   "cell_type": "markdown",
   "metadata": {},
   "source": [
    "### Now we have a list of tuples, each tuple contains the cause, effect, sign of event (positive/negative) and event type"
   ]
  },
  {
   "cell_type": "code",
   "execution_count": 77,
   "metadata": {
    "collapsed": false
   },
   "outputs": [
    {
     "data": {
      "text/plain": [
       "[('PKCa', 'ADAM17', 'Positive', ['nan']),\n",
       " ('PDPK1', 'AKT1', 'Positive', ['nan']),\n",
       " ('ICMT', 'AKT1', 'Negative', ['nan']),\n",
       " ('LKB1', 'AMPK', 'Positive', ['nan']),\n",
       " ('Fos', 'AP1', 'Positive', ['?', 'binding', 'phosphorylation']),\n",
       " ('JNK1nuc', 'AP1', 'Positive', ['?', 'binding', 'phosphorylation']),\n",
       " ('Ref1nuc', 'AP1', 'Positive', ['?', 'binding', 'phosphorylation']),\n",
       " ('Nrf2nuc', 'ARE', 'Positive', ['nan']),\n",
       " ('Bach1', 'ARE', 'Negative', ['nan']),\n",
       " ('Thi', 'ASK', 'Positive', ['nan']),\n",
       " ('edoxin', 'ASK', 'Positive', ['nan']),\n",
       " ('TRAFcyto', 'ASK', 'Positive', ['nan']),\n",
       " ('ROS', 'ATG4A', 'Negative', ['nan']),\n",
       " ('ROS', 'ATM', 'Positive', ['nan']),\n",
       " ('ATMcyto', 'ATM', 'Positive', ['translocation', '?', '?']),\n",
       " ('MRN', 'ATM', 'Positive', ['translocation', '?', '?']),\n",
       " ('PP2A', 'ATM', 'Negative', ['translocation', '?', '?']),\n",
       " ('OXPHOS', 'ATP', 'Positive', ['nan']),\n",
       " ('ROS', 'Bach1', 'Negative', ['nan']),\n",
       " ('NFkBcyto', 'BclXL', 'Positive', ['nan']),\n",
       " ('STAT1cyto', 'BclXL', 'Positive', ['nan']),\n",
       " ('AKT1', 'BclXL', 'Positive', ['nan']),\n",
       " ('JNK1cyto', 'BclXL', 'Positive', ['nan']),\n",
       " ('p53cyto', 'BclXL', 'Negative', ['nan']),\n",
       " ('TNFaRact', 'Cas8', 'Positive', ['nan']),\n",
       " ('MEK', 'CDN2A', 'Positive', ['nan']),\n",
       " ('ATMnuc', 'Chk2', 'Positive', ['nan']),\n",
       " ('TNFaRact', 'cIAP-1', 'Positive', ['nan']),\n",
       " ('ROS', 'DUSP13', 'Negative', ['nan']),\n",
       " ('Rb', 'E2F', 'Negative', ['nan']),\n",
       " ('EGFrna', 'EGF', 'Positive', ['translocation', '?']),\n",
       " ('EGFgene', 'EGF', 'Positive', ['nan']),\n",
       " ('AP1', 'EGF', 'Positive', ['nan']),\n",
       " ('EGFRpm', 'EGFR', 'Positive', ['nan']),\n",
       " ('EGFex', 'EGFR', 'Positive', ['nan']),\n",
       " ('EGFRgene', 'EGFR', 'Positive', ['nan']),\n",
       " ('EGFRrna', 'EGFR', 'Positive', ['translocation']),\n",
       " ('NFkBnuc', 'EGFR', 'Positive', ['nan']),\n",
       " ('MEK1', 'ERK1', 'Positive', ['nan']),\n",
       " ('ERK1cyto', 'ERK1', 'Positive', ['translocation']),\n",
       " ('Ras', 'ExoCx', 'Positive', ['nan']),\n",
       " ('ExoCx', 'Exosomes', 'Positive', ['nan']),\n",
       " ('FGF1', 'FGFR1', 'Positive', ['nan']),\n",
       " ('FGF1', 'FGFR1', 'Positive', ['nan']),\n",
       " ('FGFR1pm', 'FGFR1', 'Positive', ['nan']),\n",
       " ('Fibronectinrna', 'Fibronectin', 'Positive', ['translocation']),\n",
       " ('Fibronectingene', 'Fibronectin', 'Positive', ['nan']),\n",
       " ('NFkBnuc', 'Fibronectin', 'Positive', ['nan']),\n",
       " ('Trop2', 'FocAd', 'Positive', ['nan']),\n",
       " ('ERK1nuc', 'Fos', 'Positive', ['nan']),\n",
       " ('NADPH', 'GSH', 'Positive', ['nan']),\n",
       " ('GSTcyto', 'GSH', 'Positive', ['nan']),\n",
       " ('HIF1anuc', 'GLUT1', 'Positive', ['nan']),\n",
       " ('GLUT1gene', 'GLUT1', 'Positive', ['nan']),\n",
       " ('GLUT1rna', 'GLUT1', 'Positive', ['nan']),\n",
       " ('GSTrna', 'GST', 'Positive', ['translocation']),\n",
       " ('GSTgene', 'GST', 'Positive', ['nan']),\n",
       " ('ARE', 'GST', 'Positive', ['nan']),\n",
       " ('HIF1arna', 'HIF1a', 'Positive', ['nan']),\n",
       " ('HIF1acyto', 'HIF1a', 'Positive', ['nan']),\n",
       " ('HIF1agene', 'HIF1a', 'Positive', ['nan']),\n",
       " ('Ref1nuc', 'HIF1a', 'Positive', ['nan']),\n",
       " ('HIF1anuc', 'HRE', 'Positive', ['nan']),\n",
       " ('Necrosis', 'HMGB1', 'Positive', ['nan']),\n",
       " ('HMGB1cyto', 'HMGB1', 'Positive', ['nan']),\n",
       " ('HMGB1nuc', 'HMGB1', 'Positive', ['nan']),\n",
       " ('ROS', 'HMGB1', 'Positive', ['nan']),\n",
       " ('HMGB1nuc', 'HMGB1', 'Positive', ['nan']),\n",
       " ('ROS', 'HMGB1', 'Negative', ['nan']),\n",
       " ('STAT1nuc', 'IFNg', 'Positive', ['nan']),\n",
       " ('IFNGgene', 'IFNg', 'Positive', ['nan']),\n",
       " ('MAC', 'IFNg', 'Positive', ['nan']),\n",
       " ('IFNg', 'IFNgR', 'Positive', ['nan']),\n",
       " ('IFNgRpm', 'IFNgR', 'Positive', ['nan']),\n",
       " ('IGF1', 'IGF1R', 'Positive', ['nan']),\n",
       " ('IGF1Rpm', 'IGF1R', 'Positive', ['nan']),\n",
       " ('p38MAPK', 'IL1B', 'Positive', ['nan']),\n",
       " ('IL1Bgene', 'IL1B', 'Positive', ['nan']),\n",
       " ('IL1Brna', 'IL1B', 'Positive', ['nan']),\n",
       " ('IL1B', 'IL1R1', 'Positive', ['nan']),\n",
       " ('IL1R1pm', 'IL1R1', 'Positive', ['nan']),\n",
       " ('IL6ex', 'IL6R', 'Positive', ['nan']),\n",
       " ('IL6Rpm', 'IL6R', 'Positive', ['nan']),\n",
       " ('IL6gene', 'IL6', 'Positive', ['nan']),\n",
       " ('MAC', 'IL6', 'Positive', ['nan']),\n",
       " ('Fibronectinex', 'Integrin', 'Positive', ['nan']),\n",
       " ('RhoC', 'Integrin', 'Positive', ['nan']),\n",
       " ('Trop2', 'Integrin', 'Positive', ['nan']),\n",
       " ('IFNgRact', 'JAK1', 'Positive', ['nan']),\n",
       " ('IL1Ract', 'JAK1', 'Positive', ['nan']),\n",
       " ('TRAFcyto', 'JNK1', 'Positive', ['nan']),\n",
       " ('ASK', 'JNK1', 'Positive', ['nan']),\n",
       " ('DUSP13', 'JNK1', 'Negative', ['nan']),\n",
       " ('JNK1cyto', 'JNK1', 'Positive', ['translocation']),\n",
       " ('Glycolysis', 'Lactate', 'Positive', ['nan']),\n",
       " ('PDK1', 'Lactate', 'Positive', ['nan']),\n",
       " ('ATMcyto', 'LKB1', 'Positive', ['nan']),\n",
       " ('Integrin', 'LTBP', 'Positive', ['nan']),\n",
       " ('AKT1', 'MDM2', 'Positive', ['nan']),\n",
       " ('MDM2rna', 'MDM2', 'Positive', ['nan']),\n",
       " ('MDM2cyto', 'MDM2', 'Positive', ['nan']),\n",
       " ('E2F', 'MDM2', 'Negative', ['nan']),\n",
       " ('MDM2gene', 'MDM2', 'Positive', ['nan']),\n",
       " ('p53nuc', 'MDM2', 'Positive', ['nan']),\n",
       " ('Raf', 'MEK1', 'Positive', ['nan']),\n",
       " ('DNAdsb', 'MRN', 'Positive', ['nan']),\n",
       " ('AKT1', 'mTOR', 'Positive', ['nan']),\n",
       " ('TSC2', 'mTOR', 'Negative', ['nan']),\n",
       " ('PPP', 'NADPH', 'Positive', ['nan']),\n",
       " ('TNFaRact', 'NFkB', 'Positive', ['nan']),\n",
       " ('Ref1cyto', 'NFkB', 'Positive', ['nan']),\n",
       " ('IL-1', 'NFkB', 'Positive', ['nan']),\n",
       " ('NFkBcyto', 'NFkB', 'Positive', ['translocation']),\n",
       " ('RAC1', 'NOx', 'Positive', ['nan']),\n",
       " ('TNFaRact', 'NOx', 'Positive', ['nan']),\n",
       " ('VEGFRact', 'NOx', 'Positive', ['nan']),\n",
       " ('PDGFRact', 'NOx', 'Positive', ['nan']),\n",
       " ('EGFRact', 'NOx', 'Positive', ['nan']),\n",
       " ('IFNgRact', 'NOx', 'Positive', ['nan']),\n",
       " ('Ref1cyto', 'Nrf2', 'Positive', ['nan']),\n",
       " ('Nrf2cyto', 'Nrf2', 'Positive', ['nan']),\n",
       " ('SMAD3cyto', 'p21', 'Positive', ['nan']),\n",
       " ('STAT1cyto', 'p21', 'Positive', ['nan']),\n",
       " ('p21cyto', 'p21', 'Positive', ['nan']),\n",
       " ('p53nuc', 'p21', 'Positive', ['nan']),\n",
       " ('ASK', 'p38MAPK', 'Positive', ['nan']),\n",
       " ('NFkBcyto', 'p53cyto', 'Positive', ['nan']),\n",
       " ('p53cyto', 'p53nuc', 'Positive', ['nan']),\n",
       " ('Chk2', 'p53nuc', 'Positive', ['nan']),\n",
       " ('MDM2nuc', 'p53nuc', 'Negative', ['nan']),\n",
       " ('PDGFrna', 'PDGF', 'Positive', ['translocation']),\n",
       " ('PDGFgene', 'PDGF', 'Positive', ['nan']),\n",
       " ('NFkBnuc', 'PDGF', 'Positive', ['nan']),\n",
       " ('PDGFex', 'PDGFR', 'Positive', ['nan']),\n",
       " ('PDGFRpm', 'PDGFR', 'Positive', ['nan']),\n",
       " ('PIP3', 'PDPK1', 'Positive', ['nan']),\n",
       " ('Wnt', 'PDK1', 'Positive', ['nan']),\n",
       " ('FGFR1act', 'PI3K', 'Positive', ['nan']),\n",
       " ('RAGEact', 'PI3K', 'Positive', ['nan']),\n",
       " ('VEGFRact', 'PI3K', 'Positive', ['nan']),\n",
       " ('PDGFRact', 'PI3K', 'Positive', ['nan']),\n",
       " ('EGFRact', 'PI3K', 'Positive', ['nan']),\n",
       " ('PI3K', 'PIP3', 'Positive', ['nan']),\n",
       " ('PTEN', 'PIP3', 'Negative', ['nan']),\n",
       " ('Peroxiredoxin', 'PTEN', 'Positive', ['nan']),\n",
       " ('ROS', 'PTEN', 'Negative', ['nan']),\n",
       " ('PI3K', 'RAC1', 'Positive', ['nan']),\n",
       " ('Ras', 'Raf', 'Positive', ['nan']),\n",
       " ('HMGB1', 'RAGE', 'Positive', ['nan']),\n",
       " ('RAGEpm', 'RAGE', 'Positive', ['nan']),\n",
       " ('Src', 'KRas', 'Positive', ['nan']),\n",
       " ('IGF1Ract', 'KRas', 'Positive', ['nan']),\n",
       " ('FGFR1act', 'KRas', 'Positive', ['nan']),\n",
       " ('RAGEact', 'KRas', 'Positive', ['nan']),\n",
       " ('VEGFRact', 'KRas', 'Positive', ['nan']),\n",
       " ('TGFB1Ract', 'KRas', 'Positive', ['nan']),\n",
       " ('EGFRact', 'KRas', 'Positive', ['nan']),\n",
       " ('CDN2A', 'Rb', 'Positive', ['nan']),\n",
       " ('p21', 'Rb', 'Negative', ['nan']),\n",
       " ('ROS', 'Ref1', 'Positive', ['nan']),\n",
       " ('Thi', 'Ref1', 'Negative', ['nan']),\n",
       " ('edoxin', 'Ref1', 'Negative', ['nan']),\n",
       " ('Ref1cyto', 'Ref1', 'Positive', ['translocation']),\n",
       " ('TNFaRact', 'RIPK', 'Positive', ['nan']),\n",
       " ('OXPHOS', 'ROS', 'Positive', ['nan']),\n",
       " ('NOx', 'ROS', 'Positive', ['nan']),\n",
       " ('TGFb1Ract', 'ROS', 'Positive', ['nan']),\n",
       " ('INGR2act', 'ROS', 'Positive', ['nan']),\n",
       " ('MAC', 'ROS', 'Positive', ['nan']),\n",
       " ('GSH', 'ROS', 'Negative', ['nan']),\n",
       " ('SODcyto', 'ROS', 'Negative', ['nan']),\n",
       " ('OXPHOS', 'ROSh2o2', 'Positive', ['nan']),\n",
       " ('NOx', 'ROSh2o2', 'Positive', ['nan']),\n",
       " ('GSH', 'ROSh2o2', 'Negative', ['nan']),\n",
       " ('SOD', 'ROSh2o2', 'Negative', ['nan']),\n",
       " ('OXPHOS', 'ROSox', 'Positive', ['nan']),\n",
       " ('NOx', 'ROSox', 'Positive', ['nan']),\n",
       " ('GSH', 'ROSox', 'Negative', ['nan']),\n",
       " ('SOD', 'ROSox', 'Negative', ['nan']),\n",
       " ('OXPHOS', 'ROSsox', 'Positive', ['nan']),\n",
       " ('NOx', 'ROSsox', 'Positive', ['nan']),\n",
       " ('GSH', 'ROSsox', 'Negative', ['nan']),\n",
       " ('SOD', 'ROSsox', 'Negative', ['nan']),\n",
       " ('mTOR', 'RPS6KA1', 'Positive', ['nan']),\n",
       " ('ERK1cyto', 'RPS6KA1', 'Positive', ['nan']),\n",
       " ('PDPK1', 'RPS6KA1', 'Positive', ['nan']),\n",
       " ('TGFb1Ract', 'SMAD3', 'Positive', ['nan']),\n",
       " ('ERK1cyto', 'SMAD3', 'Negative', ['nan']),\n",
       " ('PDPK1', 'SMAD3', 'Negative', ['nan']),\n",
       " ('SMAD3cyto', 'SMAD3', 'Positive', ['translocation']),\n",
       " ('SODrna', 'SOD', 'Positive', ['translocation']),\n",
       " ('SODgene', 'SOD', 'Positive', ['nan']),\n",
       " ('NFkBnuc', 'SOD', 'Positive', ['nan']),\n",
       " ('Integrins', 'Src', 'Positive', ['nan']),\n",
       " ('STAT1cyto', 'STAT1', 'Positive', ['translocation']),\n",
       " ('JAK1', 'STAT1', 'Positive', ['nan']),\n",
       " ('STAT3cyto', 'STAT3', 'Positive', ['nan']),\n",
       " ('IL6Ract', 'STAT3', 'Positive', ['nan']),\n",
       " ('LTBP', 'TGFb1', 'Positive', ['nan']),\n",
       " ('TGFb1', 'TGFbR', 'Positive', ['nan']),\n",
       " ('TGFb1Rpm', 'TGFbR', 'Positive', ['nan']),\n",
       " ('TIGARrna', 'TIGAR', 'Positive', ['translocation']),\n",
       " ('TIGARgene', 'TIGAR', 'Positive', ['nan']),\n",
       " ('p53nuc', 'TIGAR', 'Positive', ['nan']),\n",
       " ('TNFarna', 'TNFa', 'Positive', ['translocation', '?', '?']),\n",
       " ('ADAM', 'TNFa', 'Positive', ['translocation', '?', '?']),\n",
       " ('TNFAgene', 'TNFa', 'Positive', ['translocation', '?', '?']),\n",
       " ('MAC', 'TNFa', 'Positive', ['translocation', '?', '?']),\n",
       " ('AcidicME', 'TNFa', 'Negative', ['translocation', '?', '?']),\n",
       " ('TNFagene', 'TNFa', 'Positive', ['nan']),\n",
       " ('NFkBnuc', 'TNFa', 'Positive', ['nan']),\n",
       " ('TNFaRrna', 'TNFaR', 'Positive', ['translocation']),\n",
       " ('TNFaex', 'TNFaR', 'Positive', ['nan']),\n",
       " ('TNFaRpm', 'TNFaR', 'Positive', ['nan']),\n",
       " ('TNFaRgene', 'TNFaR', 'Positive', ['nan']),\n",
       " ('NFkBnuc', 'TNFaR', 'Positive', ['nan']),\n",
       " ('TRAFrna', 'TRAF2', 'Positive', ['translocation', '?']),\n",
       " ('TNFaRact', 'TRAF2', 'Positive', ['translocation', '?']),\n",
       " ('TRAFgene', 'TRAF2', 'Positive', ['nan']),\n",
       " ('NFkBnuc', 'TRAF2', 'Positive', ['nan']),\n",
       " ('AMPK', 'TSC2', 'Positive', ['nan']),\n",
       " ('ROS', 'Thioredoxin', 'Positive', ['nan']),\n",
       " ('VEGFrna', 'VEGF', 'Positive', ['translocation', '?']),\n",
       " ('Lactate', 'VEGF', 'Positive', ['translocation', '?']),\n",
       " ('VEGFgene', 'VEGF', 'Positive', ['nan']),\n",
       " ('HIF1anuc', 'VEGF', 'Positive', ['nan']),\n",
       " ('VEGFex', 'VEGFR', 'Positive', ['nan']),\n",
       " ('VEGFRpm', 'VEGFR', 'Positive', ['nan']),\n",
       " ('Lactate', 'AcidicME', 'Positive', ['nan']),\n",
       " ('Cas8', 'Apoptosis', 'Positive', ['nan']),\n",
       " ('JNK1cyto', 'Apoptosis', 'Positive', ['nan']),\n",
       " ('TGFb1Ract', 'Apoptosis', 'Positive', ['nan']),\n",
       " ('STAT1nuc', 'Apoptosis', 'Positive', ['nan']),\n",
       " ('BclXL', 'Apoptosis', 'Negative', ['nan']),\n",
       " ('cIAP-1', 'Apoptosis', 'Negative', ['nan']),\n",
       " ('NFkBcytoTIGARcyto', 'Apoptosis', 'Negative', ['nan']),\n",
       " ('STAT3nuc', 'Apoptosis', 'Negative', ['nan']),\n",
       " ('HMGB1', 'Autophagy', 'Positive', ['nan']),\n",
       " ('mTOR', 'Autophagy', 'Negative', ['nan']),\n",
       " ('ATG4A', 'Autophagy', 'Negative', ['nan']),\n",
       " ('FocAd', 'CellCellCon', 'Positive', ['nan']),\n",
       " ('Apoptosis', 'CellDeath', 'Positive', ['nan']),\n",
       " ('Necroptosis', 'CellDeath', 'Positive', ['nan']),\n",
       " ('Autophagy', 'CellSurvival', 'Positive', ['nan']),\n",
       " ('ROS', 'DNAdsb', 'Positive', ['nan']),\n",
       " ('PPP', 'DRsyn', 'Positive', ['nan']),\n",
       " ('HIF1acyto', 'Glycolysis', 'Positive', ['nan']),\n",
       " ('TIGARcyto', 'Glycolysis', 'Negative', ['nan']),\n",
       " ('DRsyn', 'GrowthPS', 'Positive', ['nan']),\n",
       " ('ATP', 'GrowthPS', 'Positive', ['nan']),\n",
       " ('RPS6KA1', 'GrowthPS', 'Positive', ['nan']),\n",
       " ('p21nuc', 'GrowthPS', 'Negative', ['nan']),\n",
       " ('RIPK', 'Necroptosis', 'Positive', ['nan']),\n",
       " ('TCAKrebs', 'OXPHOS', 'Positive', ['nan']),\n",
       " ('PDK1', 'OXPHOS', 'Negative', ['nan']),\n",
       " ('Glycolysis', 'PPP', 'Positive', ['nan']),\n",
       " ('TIGARcyto', 'PPP', 'Positive', ['nan'])]"
      ]
     },
     "execution_count": 77,
     "metadata": {},
     "output_type": "execute_result"
    }
   ],
   "source": [
    "ListOfEvents"
   ]
  },
  {
   "cell_type": "markdown",
   "metadata": {},
   "source": [
    "### Also, we are creating a dictionary that map each name to its unique Id. We have read the columns ('Graph model variable name' and 'Unique ID' ) from excel file. Also, for making the dictionary complete, we read also from NMZ-CMU_160111.tsv"
   ]
  },
  {
   "cell_type": "code",
   "execution_count": 8,
   "metadata": {
    "collapsed": false
   },
   "outputs": [
    {
     "ename": "Error",
     "evalue": "line contains NULL byte",
     "output_type": "error",
     "traceback": [
      "\u001b[0;31m---------------------------------------------------------------------------\u001b[0m",
      "\u001b[0;31mError\u001b[0m                                     Traceback (most recent call last)",
      "\u001b[0;32m<ipython-input-8-f4c99491ac98>\u001b[0m in \u001b[0;36m<module>\u001b[0;34m()\u001b[0m\n\u001b[1;32m      7\u001b[0m     \u001b[0mnext\u001b[0m\u001b[0;34m(\u001b[0m\u001b[0mtsvin\u001b[0m\u001b[0;34m,\u001b[0m \u001b[0;32mNone\u001b[0m\u001b[0;34m)\u001b[0m\u001b[0;34m\u001b[0m\u001b[0m\n\u001b[1;32m      8\u001b[0m     \u001b[0mnext\u001b[0m\u001b[0;34m(\u001b[0m\u001b[0mtsvin\u001b[0m\u001b[0;34m,\u001b[0m \u001b[0;32mNone\u001b[0m\u001b[0;34m)\u001b[0m\u001b[0;34m\u001b[0m\u001b[0m\n\u001b[0;32m----> 9\u001b[0;31m     \u001b[0;32mfor\u001b[0m \u001b[0mline\u001b[0m \u001b[0;32min\u001b[0m \u001b[0mcsv\u001b[0m\u001b[0;34m.\u001b[0m\u001b[0mreader\u001b[0m\u001b[0;34m(\u001b[0m\u001b[0mtsvin\u001b[0m\u001b[0;34m,\u001b[0m \u001b[0mdialect\u001b[0m\u001b[0;34m=\u001b[0m\u001b[0;34m\"excel\"\u001b[0m\u001b[0;34m,\u001b[0m \u001b[0mdelimiter\u001b[0m\u001b[0;34m=\u001b[0m\u001b[0;34m'\\t'\u001b[0m\u001b[0;34m,\u001b[0m\u001b[0mskipinitialspace\u001b[0m\u001b[0;34m=\u001b[0m\u001b[0;32mTrue\u001b[0m\u001b[0;34m)\u001b[0m\u001b[0;34m:\u001b[0m\u001b[0;34m\u001b[0m\u001b[0m\n\u001b[0m\u001b[1;32m     10\u001b[0m         \u001b[0mParticipantsDict\u001b[0m\u001b[0;34m.\u001b[0m\u001b[0mupdate\u001b[0m\u001b[0;34m(\u001b[0m\u001b[0;34m{\u001b[0m\u001b[0mline\u001b[0m\u001b[0;34m[\u001b[0m\u001b[0;36m0\u001b[0m\u001b[0;34m]\u001b[0m\u001b[0;34m:\u001b[0m\u001b[0mline\u001b[0m\u001b[0;34m[\u001b[0m\u001b[0;36m1\u001b[0m\u001b[0;34m]\u001b[0m\u001b[0;34m+\u001b[0m\u001b[0;34m':'\u001b[0m\u001b[0;34m+\u001b[0m\u001b[0mline\u001b[0m\u001b[0;34m[\u001b[0m\u001b[0;36m2\u001b[0m\u001b[0;34m]\u001b[0m\u001b[0;34m}\u001b[0m\u001b[0;34m)\u001b[0m\u001b[0;34m\u001b[0m\u001b[0m\n\u001b[1;32m     11\u001b[0m \u001b[0mParticipantsDict\u001b[0m\u001b[0;34m.\u001b[0m\u001b[0mupdate\u001b[0m\u001b[0;34m(\u001b[0m\u001b[0;34m{\u001b[0m\u001b[0;34m\"ROS\"\u001b[0m\u001b[0;34m:\u001b[0m\u001b[0;34m\"chemidplus:D017382000\"\u001b[0m\u001b[0;34m}\u001b[0m\u001b[0;34m)\u001b[0m\u001b[0;34m\u001b[0m\u001b[0m\n",
      "\u001b[0;31mError\u001b[0m: line contains NULL byte"
     ]
    }
   ],
   "source": [
    "import csv\n",
    "#path=\"/Users/mgorjise/Desktop/new/CMU/NMZ-CMU_160111.tsv\"\n",
    "path=\"/Users/mgorjise/Documents/new/reading/CMU/NMZ-CMU_160111.tsv\"\n",
    "\n",
    "with open(path, encoding='ISO-8859-1') as tsvin:\n",
    "    next(tsvin, None)\n",
    "    next(tsvin, None)\n",
    "    next(tsvin, None)\n",
    "    for line in csv.reader(tsvin, dialect=\"excel\", delimiter='\\t',skipinitialspace=True):\n",
    "        ParticipantsDict.update({line[0]:line[1]+':'+line[2]})\n",
    "ParticipantsDict.update({\"ROS\":\"chemidplus:D017382000\"})\n"
   ]
  },
  {
   "cell_type": "markdown",
   "metadata": {},
   "source": [
    "### this is the dictionary created:"
   ]
  },
  {
   "cell_type": "code",
   "execution_count": 9,
   "metadata": {
    "collapsed": false
   },
   "outputs": [
    {
     "data": {
      "text/plain": [
       "{'ADAM17': 'uniprot:P78536',\n",
       " 'AKT1': 'uniprot:P31749',\n",
       " 'AMPK': 'uniprot:Q13131',\n",
       " 'AP1': 'uniprot:P05412',\n",
       " 'ARE': 'uniprot:ARE',\n",
       " 'ASK': 'uniprot:Q9UBU7',\n",
       " 'ATG4A': 'uniprot:Q8WYN0',\n",
       " 'ATM': 'uniprot:Q13315',\n",
       " 'ATP': 'hmdb:HMDB00538',\n",
       " 'AcidicME': 'uniprot:AcidicME',\n",
       " 'Apoptosis': 'go:0006915',\n",
       " 'Autophagy': 'go:0006914',\n",
       " 'Bach1': 'uniprot:O14867',\n",
       " 'BclXL': 'uniprot:Q07817',\n",
       " 'CD122': 'uniprot:P14784',\n",
       " 'CD132': 'uniprot:P31785',\n",
       " 'CD25': 'uniprot:P01589',\n",
       " 'CD28': 'uniprot:P10747',\n",
       " 'CDN2A': 'uniprot:P42771',\n",
       " 'Ca': 'hmdb:HMDB00464',\n",
       " 'Cas8': 'uniprot:Q14790',\n",
       " 'CellCellCon': 'go:0044291',\n",
       " 'CellDeath': 'go:0008219',\n",
       " 'CellSurvival': 'go:15680329',\n",
       " 'Chk2': 'uniprot:O96017',\n",
       " 'DNAdsb': 'go:1990166',\n",
       " 'DRsyn': 'go:0090592',\n",
       " 'DUSP13': 'uniprot:Q9UII6',\n",
       " 'E2F': 'uniprot:Q01094',\n",
       " 'EGF': 'uniprot:P01133',\n",
       " 'EGFR': 'uniprot:P00533',\n",
       " 'ERK1': 'uniprot:P27361',\n",
       " 'ExoCx': 'uniprot:Q9NV70',\n",
       " 'Exosomes': 'GO:0070062',\n",
       " 'FGF1': 'uniprot:P05230',\n",
       " 'FGFR1': 'uniprot:P11362',\n",
       " 'FOXP3': 'uniprot:B7ZLG1',\n",
       " 'Fibronectin': 'uniprot:P02751',\n",
       " 'FocAd': 'go:0051894',\n",
       " 'Fos': 'uniprot:P01100',\n",
       " 'GLUT1': 'uniprot:P11166',\n",
       " 'GSH': 'hmdb:HMDB00125',\n",
       " 'GST': 'uniprot:P08263',\n",
       " 'Glycolysis': 'go:0006096',\n",
       " 'GrowthPS': 'go:0016049',\n",
       " 'HIF1a': 'uniprot:Q16665',\n",
       " 'HMGB1': 'uniprot:P09429',\n",
       " 'HRE': 'uniprot:HRE',\n",
       " 'ICMT': 'uniprot:O60725',\n",
       " 'IFNg': 'uniprot:P01579',\n",
       " 'IFNgR': 'uniprot:P15260',\n",
       " 'IGF1': 'uniprot:P05019',\n",
       " 'IGF1R': 'uniprot:P08069',\n",
       " 'IL-2': 'uniprot:P60568',\n",
       " 'IL1B': 'uniprot:P01584',\n",
       " 'IL1R1': 'uniprot:P14778',\n",
       " 'IL2R': 'uniprot:A2N4P8',\n",
       " 'IL6': 'uniprot:P05231',\n",
       " 'IL6R': 'uniprot:P40189',\n",
       " 'IL8': 'uniprot:P10145',\n",
       " 'Integrin': 'uniprot:P08648',\n",
       " 'JAK1': 'uniprot:P23458',\n",
       " 'JAK3': 'uniprot:P52333',\n",
       " 'JNK1': 'uniprot:P45983',\n",
       " 'KRas': 'uniprot:P01116',\n",
       " 'LKB1': 'uniprot:Q15831',\n",
       " 'LTBP': 'uniprot:Q14766',\n",
       " 'Lactate': 'hmdb:HMDB00190',\n",
       " 'MDM2': 'uniprot:Q00987',\n",
       " 'MEK1': 'uniprot:Q02750',\n",
       " 'MKK7': 'uniprot:O14733',\n",
       " 'MRN': 'uniprot:O60934',\n",
       " 'Mek2': 'uniprot:P36507',\n",
       " 'NADPH': 'hmdb:HMDB00221',\n",
       " 'NFAT': 'uniprot:Q13469',\n",
       " 'NFkB': 'uniprot:P19838',\n",
       " 'NOx': 'uniprot:Q9Y5S8',\n",
       " 'Necroptosis': 'go:0097528',\n",
       " 'Nrf2': 'uniprot:Q16236',\n",
       " 'OXPHOS': 'go:0006119',\n",
       " 'PDGF': 'uniprot:P04085',\n",
       " 'PDGFR': 'uniprot:P16234',\n",
       " 'PDK1': 'uniprot:O15530',\n",
       " 'PDPK1': 'uniprot:O55173',\n",
       " 'PI3K': 'uniprot:P42336',\n",
       " 'PIP3': 'hmdb:HMDB10147',\n",
       " 'PKCTHETA': 'uniprot:Q04759',\n",
       " 'PKCa': 'uniprot:P17252',\n",
       " 'PP2A': 'uniprot:P67775',\n",
       " 'PPP': 'go:0006098',\n",
       " 'PTEN': 'uniprot:P60484',\n",
       " 'Peroxiredoxin': 'uniprot:P32119',\n",
       " 'Proliferation': 'go:0008283',\n",
       " 'RAC1': 'uniprot:P63000',\n",
       " 'RAGE': 'uniprot:Q15109',\n",
       " 'RHEB': 'uniprot:Q15382',\n",
       " 'RIPK': 'uniprot:Q13546',\n",
       " 'ROS': 'ChemIDPlus: D017382000',\n",
       " 'ROSh2o2': 'uniprot:HMDB03125',\n",
       " 'ROSox': 'uniprot:HMDB01377',\n",
       " 'ROSsox': 'uniprot:HMDB02168',\n",
       " 'RPS6KA1': 'uniprot:Q15418',\n",
       " 'Raf': 'uniprot:P04049',\n",
       " 'Rb': 'uniprot:P06400',\n",
       " 'Ref1': 'uniprot:P27695',\n",
       " 'RhoC': 'uniprot:P08134',\n",
       " 'SMAD3': 'uniprot:P84022',\n",
       " 'SOD': 'uniprot:P00441',\n",
       " 'STAT1': 'uniprot:P42224',\n",
       " 'STAT3': 'uniprot:P40763',\n",
       " 'STAT5': 'uniprot:P42229',\n",
       " 'Src': 'uniprot:P12931',\n",
       " 'TAK1': 'uniprot:O43318',\n",
       " 'TCAKrebs': 'go:0006099',\n",
       " 'TCR': 'uniprot:P04234',\n",
       " 'TGFb1': 'uniprot:P01137',\n",
       " 'TGFbR': 'uniprot:P36897',\n",
       " 'TIGAR': 'uniprot:Q9NQ88',\n",
       " 'TNFa': 'uniprot:P01375',\n",
       " 'TNFaR': 'uniprot:P19438',\n",
       " 'TRAF2': 'uniprot:Q12933',\n",
       " 'TSC': 'uniprot:Q99576',\n",
       " 'TSC2': 'uniprot:P49815',\n",
       " 'Thioredoxin': 'uniprot:P10599',\n",
       " 'Trop2': 'uniprot:P09758',\n",
       " 'VEGF': 'uniprot:P15692',\n",
       " 'VEGFR': 'uniprot:P17948',\n",
       " 'Wnt': 'uniprot:P04628',\n",
       " 'cIAP-1': 'uniprot:Q13490',\n",
       " 'mTOR': 'uniprot:P42345',\n",
       " 'p21': 'uniprot:P38936',\n",
       " 'p38MAPK': 'uniprot:Q16539',\n",
       " 'p53': 'uniprot:P04637',\n",
       " 'p53cyto': 'uniprot:P04637',\n",
       " 'p53nuc': 'uniprot:P04637',\n",
       " 'pS6': 'uniprot:P62753'}"
      ]
     },
     "execution_count": 9,
     "metadata": {},
     "output_type": "execute_result"
    }
   ],
   "source": [
    "ParticipantsDict"
   ]
  },
  {
   "cell_type": "markdown",
   "metadata": {},
   "source": [
    "### However, as it can be seen, all of the influencers are not in our dictionary. it means that there are many influencers in  Excel files that we cannot find unique id for them."
   ]
  },
  {
   "cell_type": "code",
   "execution_count": 10,
   "metadata": {
    "collapsed": false
   },
   "outputs": [
    {
     "name": "stdout",
     "output_type": "stream",
     "text": [
      "92 out of  177 influencers dont have unique id\n"
     ]
    }
   ],
   "source": [
    "k=0\n",
    "newlist=ListOfInfluence_negative+ListOfInfluence_positive\n",
    "for i in range(0,len(newlist)):\n",
    "    a=ParticipantsDict.get(newlist[i][0])\n",
    "    if a==None:\n",
    "        k=k+1\n",
    "        #print(newlist[i][0])\n",
    "print(k,'out of ', len(newlist), 'influencers dont have unique id' )  \n",
    "\n"
   ]
  },
  {
   "cell_type": "markdown",
   "metadata": {},
   "source": [
    "## *** Graph"
   ]
  },
  {
   "cell_type": "code",
   "execution_count": 11,
   "metadata": {
    "collapsed": false
   },
   "outputs": [],
   "source": [
    "import networkx as nx\n",
    "G=nx.DiGraph()\n",
    "\n",
    "nodes=G.add_nodes_from(ListOfParticipant)\n",
    "\n",
    "for i in range(0,len(ListOfEvents)):\n",
    "    if ListOfEvents[i][2]=='Positive':\n",
    "        G.add_edge(ListOfEvents[i][0],ListOfEvents[i][1],color='red')\n",
    "    if ListOfEvents[i][2]=='Negative':\n",
    "        G.add_edge(ListOfEvents[i][0],ListOfEvents[i][1],color='cyan')"
   ]
  },
  {
   "cell_type": "code",
   "execution_count": 12,
   "metadata": {
    "collapsed": false
   },
   "outputs": [
    {
     "data": {
      "image/png": "[encoded data removed]",
      "text/plain": [
       "<matplotlib.figure.Figure at 0x106f79438>"
      ]
     },
     "metadata": {},
     "output_type": "display_data"
    }
   ],
   "source": [
    "%matplotlib inline\n",
    "\n",
    "import matplotlib.pyplot as plt\n",
    "nx.draw(G,with_labels=True)\n",
    "#nx.draw_spectral(G)\n",
    "plt.savefig(\"path.png\")"
   ]
  },
  {
   "cell_type": "markdown",
   "metadata": {
    "collapsed": true
   },
   "source": [
    "## graph with Graphviz"
   ]
  },
  {
   "cell_type": "code",
   "execution_count": 13,
   "metadata": {
    "collapsed": true
   },
   "outputs": [],
   "source": [
    "from graphviz import Digraph"
   ]
  },
  {
   "cell_type": "code",
   "execution_count": 14,
   "metadata": {
    "collapsed": true
   },
   "outputs": [],
   "source": [
    "dot = Digraph(comment='The CMU pathway graph re-sketched')"
   ]
  },
  {
   "cell_type": "code",
   "execution_count": 15,
   "metadata": {
    "collapsed": true
   },
   "outputs": [],
   "source": [
    "for i in range(0,len(ListOfParticipant)):\n",
    "    dot.node(ListOfParticipant[i])\n"
   ]
  },
  {
   "cell_type": "code",
   "execution_count": 16,
   "metadata": {
    "collapsed": true
   },
   "outputs": [],
   "source": [
    "for i in range(0,len(ListOfEvents)):\n",
    "    dot.edge(ListOfEvents[i][0],ListOfEvents[i][1])"
   ]
  },
  {
   "cell_type": "code",
   "execution_count": 17,
   "metadata": {
    "collapsed": false
   },
   "outputs": [
    {
     "data": {
      "text/plain": [
       "'test-output/round-table.gv.pdf'"
      ]
     },
     "execution_count": 17,
     "metadata": {},
     "output_type": "execute_result"
    }
   ],
   "source": [
    "dot.render('test-output/round-table.gv', view=True)"
   ]
  },
  {
   "cell_type": "code",
   "execution_count": null,
   "metadata": {
    "collapsed": true
   },
   "outputs": [],
   "source": []
  }
 ],
 "metadata": {
  "kernelspec": {
   "display_name": "Python 3",
   "language": "python",
   "name": "python3"
  },
  "language_info": {
   "codemirror_mode": {
    "name": "ipython",
    "version": 3
   },
   "file_extension": ".py",
   "mimetype": "text/x-python",
   "name": "python",
   "nbconvert_exporter": "python",
   "pygments_lexer": "ipython3",
   "version": "3.5.1"
  }
 },
 "nbformat": 4,
 "nbformat_minor": 0
}
